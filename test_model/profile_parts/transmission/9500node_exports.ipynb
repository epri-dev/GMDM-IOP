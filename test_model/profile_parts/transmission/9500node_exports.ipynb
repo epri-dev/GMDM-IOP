{
 "cells": [
  {
   "cell_type": "code",
   "execution_count": 1,
   "id": "3e0ffe72",
   "metadata": {},
   "outputs": [],
   "source": [
    "# ! pip install cim-graph==0.4.3a1"
   ]
  },
  {
   "cell_type": "code",
   "execution_count": 2,
   "id": "75306380",
   "metadata": {},
   "outputs": [],
   "source": [
    "import os\n",
    "os.environ['CIMG_VALIDATION_LOG_LEVEL'] = 'DEBUG'\n",
    "os.environ['CIMG_URL'] = 'neo4j://localhost:7687'\n",
    "os.environ['CIMG_DATABASE'] = 'neo4j'\n",
    "os.environ['CIMG_HOST'] = 'localhost'\n",
    "os.environ['CIMG_PORT'] = '7687'\n",
    "os.environ['CIMG_USERNAME'] = 'neo4j'\n",
    "os.environ['CIMG_PASSWORD'] = 'test1234'\n",
    "os.environ['CIMG_NAMESPACE'] = 'http://cim.ucaiug.io/CIM101/draft#'\n",
    "os.environ['CIMG_IEC61970_301'] = '8'\n",
    "os.environ['CIMG_USE_UNITS'] = 'False'\n",
    "\n",
    "from cimgraph.databases import XMLFile, Neo4jConnection\n",
    "from cimgraph.models import NodeBreakerModel, FeederModel\n",
    "from cimgraph import utils\n",
    "from mermaid import Mermaid\n",
    "\n",
    "namespaces={'cim': 'http://cim.ucaiug.io/CIM101/draft#',\n",
    "            'gmdm': 'http://epri.com/gmdm/2025#',\n",
    "            'rdf': 'http://www.w3.org/1999/02/22-rdf-syntax-ns#'}"
   ]
  },
  {
   "cell_type": "code",
   "execution_count": 3,
   "id": "eca56f90",
   "metadata": {},
   "outputs": [],
   "source": [
    "import cimgraph.data_profile.cim18gmdm.canonical as cim # must match env var\n",
    "os.environ['CIMG_CIM_PROFILE'] = 'cimgraph.data_profile.cim18gmdm.canonical'\n",
    "\n",
    "neo4j = Neo4jConnection()\n",
    "geo = cim.GeographicalRegion(mRID='1168507f-8f63-4827-86a5-f9d2119c97c1')\n",
    "\n",
    "network3 = NodeBreakerModel(container=geo, connection=neo4j)\n",
    "\n"
   ]
  },
  {
   "cell_type": "code",
   "execution_count": 4,
   "id": "1f2cd02f",
   "metadata": {},
   "outputs": [],
   "source": [
    "network3.get_all_edges(cim.GeographicalRegion)\n",
    "network3.get_all_edges(cim.SubGeographicalRegion)\n",
    "network3.get_all_edges(cim.Substation)\n",
    "network3.get_all_edges(cim.VoltageLevel)\n",
    "network3.get_all_edges(cim.Breaker)\n",
    "network3.get_all_edges(cim.PowerTransformer)\n",
    "network3.get_all_edges(cim.PowerTransformerEnd)\n",
    "network3.get_all_edges(cim.Terminal)\n",
    "\n",
    "utils.get_all_transformer_data(network3)\n",
    "network3.get_all_edges(cim.ConnectivityNode)\n",
    "\n",
    "network3.get_all_edges(cim.Line)\n",
    "\n",
    "network3.get_all_edges(cim.ACLineSegment)\n",
    "network3.get_all_edges(cim.ACLineSegmentPhase)\n",
    "network3.get_all_edges(cim.ConnectivityNode)\n"
   ]
  },
  {
   "cell_type": "code",
   "execution_count": 5,
   "id": "0b5c30f6",
   "metadata": {},
   "outputs": [],
   "source": [
    "# for cim_class in network3.graph:\n",
    "#     if issubclass(cim_class, cim.Equipment):\n",
    "#         for eq in network3.list_by_class(cim_class):\n",
    "#             if isinstance(cim_class.EquipmentContainer, cim.Feeder):\n",
    "#                 del network3.graph[cim_class][eq.identifier]\n",
    "                \n",
    "# for node in network3.list_by_class(cim.ConnectivityNode):\n",
    "#     if isinstance(node.ConnectivityNodeContainer, cim.Feeder):\n",
    "#         del network3.graph[cim_class][node.identifier]\n"
   ]
  },
  {
   "cell_type": "code",
   "execution_count": 6,
   "id": "672ba232",
   "metadata": {},
   "outputs": [
    {
     "data": {
      "text/plain": [
       "{\"@id\": \"70d1618f-9809-4da5-8756-a9727668e23f\", \"@type\": \"Line\"}"
      ]
     },
     "execution_count": 6,
     "metadata": {},
     "output_type": "execute_result"
    }
   ],
   "source": [
    "network3.first(cim.Line)"
   ]
  },
  {
   "cell_type": "code",
   "execution_count": 7,
   "id": "11370695",
   "metadata": {},
   "outputs": [
    {
     "data": {
      "text/html": [
       "\n",
       "        <div class=\"mermaid-45a40e64-c265-4baf-805e-a62b502a3e72\"></div>\n",
       "        <script type=\"module\">\n",
       "            import mermaid from 'https://cdn.jsdelivr.net/npm/mermaid@10.1.0/+esm'\n",
       "            const graphDefinition = 'mindmap\\n    15839571((**VoltageLevel**\\n        name: voltage_level_s2_69))\\n        [\"ConnectivityNodes\"]\\n            b1c4748b(**ConnectivityNode**\\n                name: hvmv69s2_lnb)\\n            86849d9c(**ConnectivityNode**\\n                name: hvmv69s2_hsb)\\n        [\"Equipments\"]\\n            e742f3b2(**Breaker**\\n                name: hvmv69s2b1_sw)\\n            0d07d8b9(**Breaker**\\n                name: hvmv69s2b3_sw)\\n            89f95de1(**Breaker**\\n                name: hvmv69s2b4_sw)\\n        [BaseVoltage]\\n            59b863cb(**BaseVoltage**\\n                name: None)\\n        [Substation]\\n            c6bcb4fe(**Substation**\\n                name: substation_2)\\n';\n",
       "            const element = document.querySelector('.mermaid-45a40e64-c265-4baf-805e-a62b502a3e72');\n",
       "            const { svg } = await mermaid.render('graphDiv-45a40e64-c265-4baf-805e-a62b502a3e72', graphDefinition);\n",
       "            element.innerHTML = svg;\n",
       "        </script>\n",
       "        "
      ],
      "text/plain": [
       "<mermaid.mermaid.Mermaid at 0x7c4ff9ed0760>"
      ]
     },
     "execution_count": 7,
     "metadata": {},
     "output_type": "execute_result"
    }
   ],
   "source": [
    "Mermaid(utils.get_mermaid(network3.first(cim.VoltageLevel)))"
   ]
  },
  {
   "cell_type": "code",
   "execution_count": 8,
   "id": "6ccaa39e",
   "metadata": {},
   "outputs": [],
   "source": [
    "# utils.get_all_bus_data(network3)\n",
    "utils.get_all_line_data(network3)\n",
    "# utils.get_all_load_data(network3)\n",
    "\n",
    "utils.get_all_switch_data(network3)\n",
    "# utils.get_all_inverter_data(network3)\n",
    "# utils.get_all_capacitor_data(network3)\n",
    "# utils.get_all_generator_data(network3)\n",
    "# network3.get_all_edges(cim.PhotoVoltaicUnit)\n",
    "# network3.get_all_edges(cim.PowerElectronicsThermalUnit)\n",
    "# network3.get_all_edges(cim.SynchronousMachine)\n",
    "# network3.get_all_edges(cim.AsynchronousMachine)\n",
    "# network3.get_all_edges(cim.WindGeneratingUnit)\n",
    "# network3.get_all_edges(cim.ThermalGeneratingUnit)\n",
    "# network3.get_all_edges(cim.FossilFuel)\n",
    "# network3.get_all_edges(cim.UsagePoint)\n",
    "# network3.get_all_edges(cim.Pnode)\n",
    "network3.get_all_edges(cim.TransformerTank)\n",
    "network3.get_all_edges(cim.TransformerTankEnd)\n",
    "# utils.get_all_location_data(network3)\n"
   ]
  },
  {
   "cell_type": "code",
   "execution_count": 9,
   "id": "20d1077b",
   "metadata": {},
   "outputs": [],
   "source": [
    "network3.get_all_edges(cim.ACLineSegment)\n",
    "network3.get_all_edges(cim.ACLineSegmentPhase)\n",
    "network3.get_all_edges(cim.Line)\n",
    "network3.get_all_edges(cim.SeriesCompensator)\n",
    "network3.get_all_attributes(cim.BaseVoltage)\n",
    "network3.get_all_edges(cim.PositionPoint)\n",
    "network3.get_all_edges(cim.EnergySource)\n",
    "network3.get_all_attributes(cim.Terminal)\n",
    "network3.get_all_edges(cim.Location)\n",
    "network3.get_all_edges(cim.PositionPoint)\n",
    "network3.get_all_attributes(cim.CoordinateSystem)\n",
    "\n",
    "\n",
    "\n",
    "utils.write_xml(network3, 'master.xml', namespaces=namespaces)"
   ]
  },
  {
   "cell_type": "code",
   "execution_count": 10,
   "id": "03ed1462",
   "metadata": {},
   "outputs": [],
   "source": [
    "os.environ['CIMG_CIM_PROFILE'] = 'cimgraph.data_profile.cim18gmdm.connectivity'\n",
    "file = XMLFile(filename='master.xml', namespaces=namespaces)\n",
    "network = FeederModel(container=None, connection=file)\n",
    "utils.write_xml(network = network, filename='connectivity.xml', namespaces=namespaces)\n",
    "utils.write_json_ld(network = network, filename='connectivity.jsonld', namespaces=namespaces)"
   ]
  },
  {
   "cell_type": "code",
   "execution_count": 11,
   "id": "7796862f",
   "metadata": {},
   "outputs": [],
   "source": [
    "os.environ['CIMG_CIM_PROFILE'] = 'cimgraph.data_profile.cim18gmdm.electrical'\n",
    "file = XMLFile(filename='master.xml', namespaces=namespaces)\n",
    "network = FeederModel(container=None, connection=file)\n",
    "utils.write_xml(network = network, filename='electrical.xml', namespaces=namespaces)\n",
    "utils.write_json_ld(network = network, filename='electrical.jsonld', namespaces=namespaces)"
   ]
  },
  {
   "cell_type": "code",
   "execution_count": 12,
   "id": "bdea8a73",
   "metadata": {},
   "outputs": [],
   "source": [
    "os.environ['CIMG_CIM_PROFILE'] = 'cimgraph.data_profile.cim18gmdm.asset'\n",
    "file = XMLFile(filename='master.xml', namespaces=namespaces)\n",
    "network = FeederModel(container=None, connection=file)\n",
    "utils.write_xml(network = network, filename='asset.xml', namespaces=namespaces)\n",
    "utils.write_json_ld(network = network, filename='asset.jsonld', namespaces=namespaces)"
   ]
  },
  {
   "cell_type": "code",
   "execution_count": 13,
   "id": "7aca02af",
   "metadata": {},
   "outputs": [],
   "source": [
    "os.environ['CIMG_CIM_PROFILE'] = 'cimgraph.data_profile.cim18gmdm.location'\n",
    "file = XMLFile(filename='master.xml', namespaces=namespaces)\n",
    "network = FeederModel(container=None, connection=file)\n",
    "utils.write_xml(network = network, filename='location.xml', namespaces=namespaces)\n",
    "utils.write_json_ld(network = network, filename='location.jsonld', namespaces=namespaces)"
   ]
  },
  {
   "cell_type": "code",
   "execution_count": 14,
   "id": "dafc6630",
   "metadata": {},
   "outputs": [],
   "source": [
    "os.environ['CIMG_CIM_PROFILE'] = 'cimgraph.data_profile.cim18gmdm.marketnode'\n",
    "file = XMLFile(filename='master.xml', namespaces=namespaces)\n",
    "network = FeederModel(container=None, connection=file)\n",
    "utils.write_xml(network = network, filename='marketnode.xml', namespaces=namespaces)\n",
    "utils.write_json_ld(network = network, filename='marketnode.jsonld', namespaces=namespaces)"
   ]
  },
  {
   "cell_type": "markdown",
   "id": "35379515",
   "metadata": {},
   "source": []
  },
  {
   "cell_type": "code",
   "execution_count": 15,
   "id": "e63dd5fc",
   "metadata": {},
   "outputs": [],
   "source": [
    "os.environ['CIMG_VALIDATION_LOG_LEVEL'] = 'WARNING'\n",
    "os.environ['CIMG_CIM_PROFILE'] = 'cimgraph.data_profile.cim18gmdm.canonical'\n",
    "connectivity = XMLFile(filename='connectivity.xml', namespaces=namespaces)\n",
    "electrical = XMLFile(filename='electrical.xml', namespaces=namespaces)\n",
    "asset = XMLFile(filename='asset.xml', namespaces=namespaces)\n",
    "location = XMLFile(filename='location.xml', namespaces=namespaces)\n",
    "marketnode = XMLFile(filename='marketnode.xml', namespaces=namespaces)\n",
    "\n",
    "conn_network = FeederModel(container=None, connection=connectivity)\n",
    "conn_elec = FeederModel(container=None, connection=electrical, graph=conn_network.graph)\n",
    "conn_elec_asset = FeederModel(container=None, connection=asset, graph=conn_elec.graph)\n",
    "conn_elec_asset_location = FeederModel(container=None, connection=location, graph=conn_elec_asset.graph)\n",
    "complete_network = FeederModel(container=None, connection=marketnode, graph=conn_elec_asset_location.graph)\n",
    "\n",
    "utils.write_xml(network=complete_network, filename='merge.xml', namespaces=namespaces)\n",
    "utils.write_json_ld(network=complete_network, filename='merge.jsonld', namespaces=namespaces)\n"
   ]
  },
  {
   "cell_type": "code",
   "execution_count": 16,
   "id": "1c37dde4",
   "metadata": {},
   "outputs": [],
   "source": [
    "import os\n",
    "os.environ['CIMG_VALIDATION_LOG_LEVEL'] = 'WARNING'\n",
    "\n",
    "os.environ['CIMG_CIM_PROFILE'] = 'cimgraph.data_profile.cim18gmdm.canonical'\n",
    "import cimgraph.data_profile.cim18gmdm.canonical as cim # must match env var\n",
    "\n",
    "from cimgraph.databases import XMLFile\n",
    "from cimgraph.models import NodeBreakerModel\n",
    "from cimgraph import utils\n",
    "\n",
    "namespaces={'cim': 'http://cim.ucaiug.io/CIM101/draft#',\n",
    "            'gmdm': 'http://epri.com/gmdm/2025#',\n",
    "            'rdf': 'http://www.w3.org/1999/02/22-rdf-syntax-ns#'}\n",
    "\n",
    "file = XMLFile(filename='merge.xml', namespaces=namespaces)\n",
    "network = FeederModel(container=None, connection=file)\n"
   ]
  }
 ],
 "metadata": {
  "kernelspec": {
   "display_name": "Python 3",
   "language": "python",
   "name": "python3"
  },
  "language_info": {
   "codemirror_mode": {
    "name": "ipython",
    "version": 3
   },
   "file_extension": ".py",
   "mimetype": "text/x-python",
   "name": "python",
   "nbconvert_exporter": "python",
   "pygments_lexer": "ipython3",
   "version": "3.10.12"
  }
 },
 "nbformat": 4,
 "nbformat_minor": 5
}
