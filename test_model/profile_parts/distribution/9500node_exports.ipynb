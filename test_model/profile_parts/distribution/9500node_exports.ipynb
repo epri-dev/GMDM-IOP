{
 "cells": [
  {
   "cell_type": "code",
   "execution_count": 1,
   "id": "3e0ffe72",
   "metadata": {},
   "outputs": [],
   "source": [
    "# ! pip install cim-graph==0.4.3a1"
   ]
  },
  {
   "cell_type": "code",
   "execution_count": 2,
   "id": "75306380",
   "metadata": {},
   "outputs": [],
   "source": [
    "import os\n",
    "os.environ['CIMG_VALIDATION_LOG_LEVEL'] = 'DEBUG'\n",
    "os.environ['CIMG_URL'] = 'neo4j://localhost:7687'\n",
    "os.environ['CIMG_DATABASE'] = 'neo4j'\n",
    "os.environ['CIMG_HOST'] = 'localhost'\n",
    "os.environ['CIMG_PORT'] = '7687'\n",
    "os.environ['CIMG_USERNAME'] = 'neo4j'\n",
    "os.environ['CIMG_PASSWORD'] = 'test1234'\n",
    "os.environ['CIMG_NAMESPACE'] = 'http://cim.ucaiug.io/CIM101/draft#'\n",
    "os.environ['CIMG_IEC61970_301'] = '8'\n",
    "os.environ['CIMG_USE_UNITS'] = 'False'\n",
    "\n",
    "from cimgraph.databases import XMLFile, Neo4jConnection\n",
    "from cimgraph.models import FeederModel\n",
    "from cimgraph import utils\n",
    "\n",
    "namespaces={'cim': 'http://cim.ucaiug.io/CIM101/draft#',\n",
    "            'gmdm': 'http://epri.com/gmdm/2025#',\n",
    "            'rdf': 'http://www.w3.org/1999/02/22-rdf-syntax-ns#'}"
   ]
  },
  {
   "cell_type": "code",
   "execution_count": 3,
   "id": "eca56f90",
   "metadata": {},
   "outputs": [],
   "source": [
    "import cimgraph.data_profile.cim18gmdm.canonical as cim # must match env var\n",
    "os.environ['CIMG_CIM_PROFILE'] = 'cimgraph.data_profile.cim18gmdm.canonical'\n",
    "\n",
    "neo4j = Neo4jConnection()\n",
    "feeder1 = cim.Feeder(mRID='0e1e4c92-7c63-422d-8822-79a3797a7ffa')\n",
    "feeder2 = cim.Feeder(mRID='8ef3f7b6-25be-476f-af48-2dcf85042b36')\n",
    "feeder3 = cim.Feeder(mRID='f856769a-363c-401e-a0cd-bd0a48b83ef0')\n",
    "\n",
    "network1 = FeederModel(container=feeder1, connection=neo4j)\n",
    "network2 = FeederModel(container=feeder2, connection=neo4j, graph = network1.graph)\n",
    "network3 = FeederModel(container=feeder3, connection=neo4j, graph = network2.graph)"
   ]
  },
  {
   "cell_type": "code",
   "execution_count": 4,
   "id": "6ccaa39e",
   "metadata": {},
   "outputs": [],
   "source": [
    "utils.get_all_bus_data(network3)\n",
    "utils.get_all_line_data(network3)\n",
    "utils.get_all_load_data(network3)\n",
    "utils.get_all_transformer_data(network3)\n",
    "utils.get_all_switch_data(network3)\n",
    "utils.get_all_inverter_data(network3)\n",
    "utils.get_all_capacitor_data(network3)\n",
    "utils.get_all_generator_data(network3)\n",
    "network3.get_all_edges(cim.PhotoVoltaicUnit)\n",
    "network3.get_all_edges(cim.PowerElectronicsThermalUnit)\n",
    "network3.get_all_edges(cim.SynchronousMachine)\n",
    "network3.get_all_edges(cim.AsynchronousMachine)\n",
    "network3.get_all_edges(cim.WindGeneratingUnit)\n",
    "network3.get_all_edges(cim.ThermalGeneratingUnit)\n",
    "network3.get_all_edges(cim.FossilFuel)\n",
    "network3.get_all_edges(cim.UsagePoint)\n",
    "network3.get_all_edges(cim.Pnode)\n",
    "network3.get_all_edges(cim.TransformerTankEnd)\n",
    "network3.get_all_attributes(cim.CoordinateSystem)\n",
    "network3.get_all_attributes(cim.BaseVoltage)\n",
    "network3.get_all_edges(cim.Location)\n",
    "network3.get_all_edges(cim.PositionPoint)\n",
    "network3.get_all_attributes(cim.CoordinateSystem)\n",
    "utils.get_all_location_data(network3)\n"
   ]
  },
  {
   "cell_type": "code",
   "execution_count": 5,
   "id": "20d1077b",
   "metadata": {},
   "outputs": [],
   "source": [
    "\n",
    "utils.write_xml(network3, 'master.xml', namespaces=namespaces)"
   ]
  },
  {
   "cell_type": "code",
   "execution_count": 6,
   "id": "5e04b288",
   "metadata": {},
   "outputs": [],
   "source": [
    "# os.environ['CIMG_CIM_PROFILE'] = 'cimgraph.data_profile.cim18gmdm.canonical'\n",
    "# file = XMLFile(filename='../ieee_9500_gmdm.xml', namespaces=namespaces)\n",
    "# network = FeederModel(container=None, connection=file)\n",
    "\n",
    "# for location in network.list_by_class(cim.Location):\n",
    "#     if 'hvmv' in location.name or 'feeder_reg' in location.name:\n",
    "#         for point in location.PositionPoints:\n",
    "#             uuid = point.identifier\n",
    "#             # network.delete(point)\n",
    "#             # try:\n",
    "#             del network.graph[cim.PositionPoint][uuid]\n",
    "#             # except:\n",
    "#             #     pass\n",
    "\n",
    "# for cim_class in network.graph:\n",
    "#     for obj in network.list_by_class(cim_class):\n",
    "#         try:\n",
    "#             if 'hvmv' in obj.name or 'feeder_reg' in obj.name:\n",
    "#                 network.delete(obj)\n",
    "#         except:\n",
    "#             pass\n",
    "# utils.write_xml(network = network, filename='master.xml', namespaces=namespaces)"
   ]
  },
  {
   "cell_type": "code",
   "execution_count": 7,
   "id": "03ed1462",
   "metadata": {},
   "outputs": [],
   "source": [
    "os.environ['CIMG_CIM_PROFILE'] = 'cimgraph.data_profile.cim18gmdm.connectivity'\n",
    "file = XMLFile(filename='master.xml', namespaces=namespaces)\n",
    "network = FeederModel(container=None, connection=file)\n",
    "utils.write_xml(network = network, filename='connectivity.xml', namespaces=namespaces)\n",
    "utils.write_json_ld(network = network, filename='connectivity.jsonld', namespaces=namespaces)"
   ]
  },
  {
   "cell_type": "code",
   "execution_count": 8,
   "id": "7796862f",
   "metadata": {},
   "outputs": [],
   "source": [
    "os.environ['CIMG_CIM_PROFILE'] = 'cimgraph.data_profile.cim18gmdm.electrical'\n",
    "file = XMLFile(filename='master.xml', namespaces=namespaces)\n",
    "network = FeederModel(container=None, connection=file)\n",
    "utils.write_xml(network = network, filename='electrical.xml', namespaces=namespaces)\n",
    "utils.write_json_ld(network = network, filename='electrical.jsonld', namespaces=namespaces)"
   ]
  },
  {
   "cell_type": "code",
   "execution_count": 9,
   "id": "bdea8a73",
   "metadata": {},
   "outputs": [],
   "source": [
    "os.environ['CIMG_CIM_PROFILE'] = 'cimgraph.data_profile.cim18gmdm.asset'\n",
    "file = XMLFile(filename='master.xml', namespaces=namespaces)\n",
    "network = FeederModel(container=None, connection=file)\n",
    "utils.write_xml(network = network, filename='asset.xml', namespaces=namespaces)\n",
    "utils.write_json_ld(network = network, filename='asset.jsonld', namespaces=namespaces)"
   ]
  },
  {
   "cell_type": "code",
   "execution_count": 10,
   "id": "7aca02af",
   "metadata": {},
   "outputs": [],
   "source": [
    "os.environ['CIMG_CIM_PROFILE'] = 'cimgraph.data_profile.cim18gmdm.location'\n",
    "file = XMLFile(filename='master.xml', namespaces=namespaces)\n",
    "network = FeederModel(container=None, connection=file)\n",
    "utils.write_xml(network = network, filename='location.xml', namespaces=namespaces)\n",
    "utils.write_json_ld(network = network, filename='location.jsonld', namespaces=namespaces)"
   ]
  },
  {
   "cell_type": "code",
   "execution_count": 11,
   "id": "dafc6630",
   "metadata": {},
   "outputs": [],
   "source": [
    "os.environ['CIMG_CIM_PROFILE'] = 'cimgraph.data_profile.cim18gmdm.marketnode'\n",
    "file = XMLFile(filename='master.xml', namespaces=namespaces)\n",
    "network = FeederModel(container=None, connection=file)\n",
    "utils.write_xml(network = network, filename='marketnode.xml', namespaces=namespaces)\n",
    "utils.write_json_ld(network = network, filename='marketnode.jsonld', namespaces=namespaces)"
   ]
  },
  {
   "cell_type": "markdown",
   "id": "35379515",
   "metadata": {},
   "source": []
  },
  {
   "cell_type": "code",
   "execution_count": 12,
   "id": "e63dd5fc",
   "metadata": {},
   "outputs": [],
   "source": [
    "os.environ['CIMG_VALIDATION_LOG_LEVEL'] = 'WARNING'\n",
    "os.environ['CIMG_CIM_PROFILE'] = 'cimgraph.data_profile.cim18gmdm.canonical'\n",
    "connectivity = XMLFile(filename='connectivity.xml', namespaces=namespaces)\n",
    "electrical = XMLFile(filename='electrical.xml', namespaces=namespaces)\n",
    "asset = XMLFile(filename='asset.xml', namespaces=namespaces)\n",
    "location = XMLFile(filename='location.xml', namespaces=namespaces)\n",
    "marketnode = XMLFile(filename='marketnode.xml', namespaces=namespaces)\n",
    "\n",
    "conn_network = FeederModel(container=None, connection=connectivity)\n",
    "conn_elec = FeederModel(container=None, connection=electrical, graph=conn_network.graph)\n",
    "conn_elec_asset = FeederModel(container=None, connection=asset, graph=conn_elec.graph)\n",
    "conn_elec_asset_location = FeederModel(container=None, connection=location, graph=conn_elec_asset.graph)\n",
    "complete_network = FeederModel(container=None, connection=marketnode, graph=conn_elec_asset_location.graph)\n",
    "\n",
    "utils.write_xml(network=complete_network, filename='merge.xml', namespaces=namespaces)\n",
    "utils.write_json_ld(network=complete_network, filename='merge.jsonld', namespaces=namespaces)\n"
   ]
  },
  {
   "cell_type": "code",
   "execution_count": 13,
   "id": "1c37dde4",
   "metadata": {},
   "outputs": [],
   "source": [
    "import os\n",
    "os.environ['CIMG_VALIDATION_LOG_LEVEL'] = 'WARNING'\n",
    "\n",
    "os.environ['CIMG_CIM_PROFILE'] = 'cimgraph.data_profile.cim18gmdm.canonical'\n",
    "import cimgraph.data_profile.cim18gmdm.canonical as cim # must match env var\n",
    "\n",
    "from cimgraph.databases import XMLFile\n",
    "from cimgraph.models import FeederModel\n",
    "from cimgraph import utils\n",
    "\n",
    "namespaces={'cim': 'http://cim.ucaiug.io/CIM101/draft#',\n",
    "            'gmdm': 'http://epri.com/gmdm/2025#',\n",
    "            'rdf': 'http://www.w3.org/1999/02/22-rdf-syntax-ns#'}\n",
    "\n",
    "file = XMLFile(filename='merge.xml', namespaces=namespaces)\n",
    "network = FeederModel(container=None, connection=file)\n"
   ]
  }
 ],
 "metadata": {
  "kernelspec": {
   "display_name": "Python 3",
   "language": "python",
   "name": "python3"
  },
  "language_info": {
   "codemirror_mode": {
    "name": "ipython",
    "version": 3
   },
   "file_extension": ".py",
   "mimetype": "text/x-python",
   "name": "python",
   "nbconvert_exporter": "python",
   "pygments_lexer": "ipython3",
   "version": "3.10.12"
  }
 },
 "nbformat": 4,
 "nbformat_minor": 5
}
